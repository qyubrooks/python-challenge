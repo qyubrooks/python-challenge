{
 "cells": [
  {
   "cell_type": "code",
   "execution_count": 3,
   "metadata": {},
   "outputs": [
    {
     "name": "stdout",
     "output_type": "stream",
     "text": [
      " Financial Analysis\n",
      "-------------------------\n",
      "Total Months: 86\n",
      "Total: $38382578\n",
      "Average Change: $-2315.12\n",
      "Greatest Increase in Profits: Feb-2012 ($1926159)\n",
      "Greatest Decrease in Profits: Sep-2013 ($-2196167)\n"
     ]
    }
   ],
   "source": [
    "#import module\n",
    "import os\n",
    "import csv\n",
    "\n",
    "#set variables\n",
    "total_row_count = 0\n",
    "dates = []\n",
    "total = 0\n",
    "profit = []\n",
    "profit_change = []\n",
    "\n",
    "greatest_increase = 0\n",
    "greatest_decrease = 0\n",
    "\n",
    "#set path for the file and read using CSV module\n",
    "csvpath = os.path.join('.','Resources', 'budget_data.csv')\n",
    "with open(csvpath, newline='') as csvfile:\n",
    "    csvreader = csv.reader(csvfile, delimiter = ',')\n",
    "    \n",
    "    #read the header row first\n",
    "    csv_header = next(csvreader)\n",
    "    \n",
    "    #read each row of csvreader after the header\n",
    "    for row in csvreader:\n",
    "        #caculate how many total of months \n",
    "        total_row_count += 1\n",
    "        dates.append(row[0])\n",
    "        \n",
    "        #caculate the net total amount of \"Profit/Losses\" \n",
    "        total += int(row[1])\n",
    "        profit.append(int(row[1]))\n",
    "    \n",
    "    #loop through each month of value of \"Profit/Losses\" and caculate the change between each two monthes\n",
    "    for i in range(len(profit)-1):\n",
    "        change = profit[i+1] - profit[i]\n",
    "        profit_change.append(change)\n",
    "        \n",
    "        #cacualte average change in \"Profit/Losses\"\n",
    "        average_change = round(sum(profit_change)/len(profit_change),2)\n",
    "        \n",
    "        # find the greatest increase/decrease in profits (date and amount)\n",
    "        if (change > greatest_increase):\n",
    "            greatest_increase_month = dates[i+1]\n",
    "            greatest_increase = change\n",
    "        if (change < greatest_decrease):\n",
    "            greatest_decrease_month = dates[i+1]\n",
    "            greatest_decrease = change\n",
    "                 \n",
    "    print(\" Financial Analysis\")\n",
    "    print(\"-\" * 25)\n",
    "    print(f\"Total Months: {total_row_count}\") \n",
    "    print(\"Total: $\" + str(total))\n",
    "    print(f\"Average Change: ${average_change}\")\n",
    "    print(f\"Greatest Increase in Profits: {greatest_increase_month} (${greatest_increase})\")\n",
    "    print(f\"Greatest Decrease in Profits: {greatest_decrease_month} (${greatest_decrease})\")\n",
    "    \n",
    "    \n",
    "#open the output file to  export a text file with the results\n",
    "output_file = os.path.join(\".\", \"Financial_Analysis.txt\")\n",
    "with open(output_file, 'w', newline='') as text:\n",
    "    text.write(\" Financial Analysis\\n\")\n",
    "    text.write(\"-----------------------\\n\")\n",
    "    text.write(f\"Total Months: {total_row_count}\\n\") \n",
    "    text.write(f\"Total: $ {total}\\n\")\n",
    "    text.write(f\"Average Change: ${averageChange}\\n\")\n",
    "    text.write(f\"Greatest Increase in Profits: {greatest_increase_month} (${greatest_increase})\\n\")\n",
    "    text.write(f\"Greatest Decrease in Profits: {greatest_decrease_month} (${greatest_decrease})\\n\")"
   ]
  },
  {
   "cell_type": "code",
   "execution_count": null,
   "metadata": {},
   "outputs": [],
   "source": []
  },
  {
   "cell_type": "code",
   "execution_count": null,
   "metadata": {},
   "outputs": [],
   "source": []
  }
 ],
 "metadata": {
  "kernelspec": {
   "display_name": "Python 3",
   "language": "python",
   "name": "python3"
  },
  "language_info": {
   "codemirror_mode": {
    "name": "ipython",
    "version": 3
   },
   "file_extension": ".py",
   "mimetype": "text/x-python",
   "name": "python",
   "nbconvert_exporter": "python",
   "pygments_lexer": "ipython3",
   "version": "3.6.5"
  }
 },
 "nbformat": 4,
 "nbformat_minor": 2
}
