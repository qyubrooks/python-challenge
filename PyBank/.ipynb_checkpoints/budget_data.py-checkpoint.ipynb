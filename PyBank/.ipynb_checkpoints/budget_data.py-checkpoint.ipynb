{
 "cells": [
  {
   "cell_type": "code",
   "execution_count": 152,
   "metadata": {},
   "outputs": [
    {
     "name": "stdout",
     "output_type": "stream",
     "text": [
      " Financial Analysis\n",
      "-------------------------\n",
      "Total Months: 86\n",
      "Total: $38382578\n",
      "Average Change: $7803.48\n",
      "Greatest Increase in Profits: Feb-2012 ($1926159)\n",
      "Greatest Decrease in Profits: Sep-2013 ($-2196167)\n"
     ]
    }
   ],
   "source": [
    "import os\n",
    "import csv\n",
    "\n",
    "profitChange = []\n",
    "total_row_count = 0\n",
    "total = 0\n",
    "previousProfit = 0\n",
    "greatestIncrease = 0\n",
    "greatestDecrease = 0\n",
    "\n",
    "csvpath = os.path.join('.', 'Resources', 'budget_data.csv')\n",
    "with open(csvpath, newline='') as csvfile:\n",
    "    csvreader = csv.reader(csvfile, delimiter = ',')\n",
    "    \n",
    "    csv_header = next(csvreader)\n",
    "    \n",
    "    for row in csvreader:\n",
    "        total_row_count += 1\n",
    "        total += int(row[1])\n",
    "        \n",
    "        monthlyProfitChange = int(row[1]) - previousProfit\n",
    "        previousProfit = int(row[1])\n",
    "        profitChange.append(monthlyProfitChange)\n",
    "        averageChange = round(sum(profitChange)/total_row_count,2)\n",
    "        \n",
    "        if (monthlyProfitChange > greatestIncrease):\n",
    "            greatestIncreaseMonth = row[0]\n",
    "            greatestIncrease = monthlyProfitChange\n",
    "        if (monthlyProfitChange < greatestDecrease):\n",
    "            greatestDecreaseMonth = row[0]\n",
    "            greatestDecrease = monthlyProfitChange\n",
    "            \n",
    "    print(\" Financial Analysis\")\n",
    "    print(\"-\" * 25)\n",
    "    print(f\"Total Months: {total_row_count}\") \n",
    "    print(\"Total: $\" + str(total))\n",
    "    print(f\"Average Change: ${averageChange}\")\n",
    "    print(f\"Greatest Increase in Profits: {greatestIncreaseMonth} (${greatestIncrease})\")\n",
    "    print(f\"Greatest Decrease in Profits: {greatestDecreaseMonth} (${greatestDecrease})\")\n",
    "    \n",
    "    \n",
    "\n",
    "output_file = os.path.join(\".\", \"Financial_Analysis.txt\")\n",
    "with open(output_file, 'w', newline='') as text:\n",
    "    text.write(\" Financial Analysis\\n\")\n",
    "    text.write(\"-----------------------\\n\")\n",
    "    text.write(f\"Total Months: {total_row_count}\\n\") \n",
    "    text.write(\"Total: $\" + str(total))\n",
    "    text.write(f\"Average Change: ${averageChange}\\n\")\n",
    "    text.write(f\"Greatest Increase in Profits: {greatestIncreaseMonth} (${greatestIncrease})\\n\")\n",
    "    text.write(f\"Greatest Decrease in Profits: {greatestDecreaseMonth} (${greatestDecrease})\\n\")\n",
    "     "
   ]
  },
  {
   "cell_type": "code",
   "execution_count": null,
   "metadata": {},
   "outputs": [],
   "source": []
  }
 ],
 "metadata": {
  "kernelspec": {
   "display_name": "Python 3",
   "language": "python",
   "name": "python3"
  },
  "language_info": {
   "codemirror_mode": {
    "name": "ipython",
    "version": 3
   },
   "file_extension": ".py",
   "mimetype": "text/x-python",
   "name": "python",
   "nbconvert_exporter": "python",
   "pygments_lexer": "ipython3",
   "version": "3.6.5"
  }
 },
 "nbformat": 4,
 "nbformat_minor": 2
}
